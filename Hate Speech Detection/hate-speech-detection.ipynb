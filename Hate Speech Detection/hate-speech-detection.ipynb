{
 "cells": [
  {
   "cell_type": "code",
   "execution_count": 1,
   "id": "later-brazilian",
   "metadata": {
    "execution": {
     "iopub.execute_input": "2021-06-17T13:54:04.503011Z",
     "iopub.status.busy": "2021-06-17T13:54:04.502341Z",
     "iopub.status.idle": "2021-06-17T13:54:05.876063Z",
     "shell.execute_reply": "2021-06-17T13:54:05.875130Z",
     "shell.execute_reply.started": "2021-06-01T21:09:45.094862Z"
    },
    "id": "-f-HWAdQzCVE",
    "papermill": {
     "duration": 1.419849,
     "end_time": "2021-06-17T13:54:05.876263",
     "exception": false,
     "start_time": "2021-06-17T13:54:04.456414",
     "status": "completed"
    },
    "tags": []
   },
   "outputs": [],
   "source": [
    "import warnings\n",
    "warnings.filterwarnings('ignore')\n",
    "import pandas as pd\n",
    "import numpy as np\n",
    "import matplotlib.pyplot as plt\n",
    "import seaborn as sns\n",
    "from sklearn.model_selection import train_test_split, GridSearchCV\n",
    "from sklearn.metrics import confusion_matrix,f1_score\n",
    "from sklearn.naive_bayes import MultinomialNB\n",
    "from sklearn.ensemble import RandomForestClassifier\n",
    "from sklearn.metrics import accuracy_score, confusion_matrix, classification_report\n",
    "import re"
   ]
  },
  {
   "cell_type": "code",
   "execution_count": 2,
   "id": "informal-casino",
   "metadata": {
    "execution": {
     "iopub.execute_input": "2021-06-17T13:54:05.951117Z",
     "iopub.status.busy": "2021-06-17T13:54:05.950269Z",
     "iopub.status.idle": "2021-06-17T13:54:06.149779Z",
     "shell.execute_reply": "2021-06-17T13:54:06.149182Z",
     "shell.execute_reply.started": "2021-06-01T21:09:46.390135Z"
    },
    "id": "Oji-bx8xz_lN",
    "outputId": "d9c26aca-2808-49c7-d69f-58fb216d3576",
    "papermill": {
     "duration": 0.240082,
     "end_time": "2021-06-17T13:54:06.149948",
     "exception": false,
     "start_time": "2021-06-17T13:54:05.909866",
     "status": "completed"
    },
    "tags": []
   },
   "outputs": [
    {
     "data": {
      "text/html": [
       "<div>\n",
       "<style scoped>\n",
       "    .dataframe tbody tr th:only-of-type {\n",
       "        vertical-align: middle;\n",
       "    }\n",
       "\n",
       "    .dataframe tbody tr th {\n",
       "        vertical-align: top;\n",
       "    }\n",
       "\n",
       "    .dataframe thead th {\n",
       "        text-align: right;\n",
       "    }\n",
       "</style>\n",
       "<table border=\"1\" class=\"dataframe\">\n",
       "  <thead>\n",
       "    <tr style=\"text-align: right;\">\n",
       "      <th></th>\n",
       "      <th>id</th>\n",
       "      <th>label</th>\n",
       "      <th>tweet</th>\n",
       "    </tr>\n",
       "  </thead>\n",
       "  <tbody>\n",
       "    <tr>\n",
       "      <th>0</th>\n",
       "      <td>1</td>\n",
       "      <td>0</td>\n",
       "      <td>@user when a father is dysfunctional and is s...</td>\n",
       "    </tr>\n",
       "    <tr>\n",
       "      <th>1</th>\n",
       "      <td>2</td>\n",
       "      <td>0</td>\n",
       "      <td>@user @user thanks for #lyft credit i can't us...</td>\n",
       "    </tr>\n",
       "    <tr>\n",
       "      <th>2</th>\n",
       "      <td>3</td>\n",
       "      <td>0</td>\n",
       "      <td>bihday your majesty</td>\n",
       "    </tr>\n",
       "    <tr>\n",
       "      <th>3</th>\n",
       "      <td>4</td>\n",
       "      <td>0</td>\n",
       "      <td>#model   i love u take with u all the time in ...</td>\n",
       "    </tr>\n",
       "    <tr>\n",
       "      <th>4</th>\n",
       "      <td>5</td>\n",
       "      <td>0</td>\n",
       "      <td>factsguide: society now    #motivation</td>\n",
       "    </tr>\n",
       "  </tbody>\n",
       "</table>\n",
       "</div>"
      ],
      "text/plain": [
       "   id  label                                              tweet\n",
       "0   1      0   @user when a father is dysfunctional and is s...\n",
       "1   2      0  @user @user thanks for #lyft credit i can't us...\n",
       "2   3      0                                bihday your majesty\n",
       "3   4      0  #model   i love u take with u all the time in ...\n",
       "4   5      0             factsguide: society now    #motivation"
      ]
     },
     "execution_count": 2,
     "metadata": {},
     "output_type": "execute_result"
    }
   ],
   "source": [
    "df = pd.read_csv(\"../input/twitter-hate-speech/train_E6oV3lV.csv\")\n",
    "df.head()"
   ]
  },
  {
   "cell_type": "code",
   "execution_count": 3,
   "id": "higher-laser",
   "metadata": {
    "execution": {
     "iopub.execute_input": "2021-06-17T13:54:06.226812Z",
     "iopub.status.busy": "2021-06-17T13:54:06.225896Z",
     "iopub.status.idle": "2021-06-17T13:54:06.255496Z",
     "shell.execute_reply": "2021-06-17T13:54:06.254922Z",
     "shell.execute_reply.started": "2021-06-01T21:09:46.52052Z"
    },
    "id": "NuANwXM80vnN",
    "outputId": "c6c3bb39-aacb-4997-a3b5-fe09d50e47fb",
    "papermill": {
     "duration": 0.070833,
     "end_time": "2021-06-17T13:54:06.255662",
     "exception": false,
     "start_time": "2021-06-17T13:54:06.184829",
     "status": "completed"
    },
    "tags": []
   },
   "outputs": [
    {
     "data": {
      "text/html": [
       "<div>\n",
       "<style scoped>\n",
       "    .dataframe tbody tr th:only-of-type {\n",
       "        vertical-align: middle;\n",
       "    }\n",
       "\n",
       "    .dataframe tbody tr th {\n",
       "        vertical-align: top;\n",
       "    }\n",
       "\n",
       "    .dataframe thead th {\n",
       "        text-align: right;\n",
       "    }\n",
       "</style>\n",
       "<table border=\"1\" class=\"dataframe\">\n",
       "  <thead>\n",
       "    <tr style=\"text-align: right;\">\n",
       "      <th></th>\n",
       "      <th>id</th>\n",
       "      <th>label</th>\n",
       "      <th>tweet</th>\n",
       "    </tr>\n",
       "  </thead>\n",
       "  <tbody>\n",
       "    <tr>\n",
       "      <th>13</th>\n",
       "      <td>14</td>\n",
       "      <td>1</td>\n",
       "      <td>@user #cnn calls #michigan middle school 'buil...</td>\n",
       "    </tr>\n",
       "    <tr>\n",
       "      <th>14</th>\n",
       "      <td>15</td>\n",
       "      <td>1</td>\n",
       "      <td>no comment!  in #australia   #opkillingbay #se...</td>\n",
       "    </tr>\n",
       "    <tr>\n",
       "      <th>17</th>\n",
       "      <td>18</td>\n",
       "      <td>1</td>\n",
       "      <td>retweet if you agree!</td>\n",
       "    </tr>\n",
       "    <tr>\n",
       "      <th>23</th>\n",
       "      <td>24</td>\n",
       "      <td>1</td>\n",
       "      <td>@user @user lumpy says i am a . prove it lumpy.</td>\n",
       "    </tr>\n",
       "    <tr>\n",
       "      <th>34</th>\n",
       "      <td>35</td>\n",
       "      <td>1</td>\n",
       "      <td>it's unbelievable that in the 21st century we'...</td>\n",
       "    </tr>\n",
       "  </tbody>\n",
       "</table>\n",
       "</div>"
      ],
      "text/plain": [
       "    id  label                                              tweet\n",
       "13  14      1  @user #cnn calls #michigan middle school 'buil...\n",
       "14  15      1  no comment!  in #australia   #opkillingbay #se...\n",
       "17  18      1                             retweet if you agree! \n",
       "23  24      1    @user @user lumpy says i am a . prove it lumpy.\n",
       "34  35      1  it's unbelievable that in the 21st century we'..."
      ]
     },
     "execution_count": 3,
     "metadata": {},
     "output_type": "execute_result"
    }
   ],
   "source": [
    "hate_tweet = df[df.label == 1]\n",
    "hate_tweet.head()"
   ]
  },
  {
   "cell_type": "code",
   "execution_count": 4,
   "id": "contained-cambodia",
   "metadata": {
    "execution": {
     "iopub.execute_input": "2021-06-17T13:54:06.331488Z",
     "iopub.status.busy": "2021-06-17T13:54:06.330395Z",
     "iopub.status.idle": "2021-06-17T13:54:06.344733Z",
     "shell.execute_reply": "2021-06-17T13:54:06.344000Z",
     "shell.execute_reply.started": "2021-06-01T21:09:46.546653Z"
    },
    "id": "q0uJSXE50_7n",
    "outputId": "f5aa3c55-3954-4535-b0ae-e750943558e3",
    "papermill": {
     "duration": 0.055071,
     "end_time": "2021-06-17T13:54:06.344910",
     "exception": false,
     "start_time": "2021-06-17T13:54:06.289839",
     "status": "completed"
    },
    "tags": []
   },
   "outputs": [
    {
     "data": {
      "text/html": [
       "<div>\n",
       "<style scoped>\n",
       "    .dataframe tbody tr th:only-of-type {\n",
       "        vertical-align: middle;\n",
       "    }\n",
       "\n",
       "    .dataframe tbody tr th {\n",
       "        vertical-align: top;\n",
       "    }\n",
       "\n",
       "    .dataframe thead th {\n",
       "        text-align: right;\n",
       "    }\n",
       "</style>\n",
       "<table border=\"1\" class=\"dataframe\">\n",
       "  <thead>\n",
       "    <tr style=\"text-align: right;\">\n",
       "      <th></th>\n",
       "      <th>id</th>\n",
       "      <th>label</th>\n",
       "      <th>tweet</th>\n",
       "    </tr>\n",
       "  </thead>\n",
       "  <tbody>\n",
       "    <tr>\n",
       "      <th>0</th>\n",
       "      <td>1</td>\n",
       "      <td>0</td>\n",
       "      <td>@user when a father is dysfunctional and is s...</td>\n",
       "    </tr>\n",
       "    <tr>\n",
       "      <th>1</th>\n",
       "      <td>2</td>\n",
       "      <td>0</td>\n",
       "      <td>@user @user thanks for #lyft credit i can't us...</td>\n",
       "    </tr>\n",
       "    <tr>\n",
       "      <th>2</th>\n",
       "      <td>3</td>\n",
       "      <td>0</td>\n",
       "      <td>bihday your majesty</td>\n",
       "    </tr>\n",
       "    <tr>\n",
       "      <th>3</th>\n",
       "      <td>4</td>\n",
       "      <td>0</td>\n",
       "      <td>#model   i love u take with u all the time in ...</td>\n",
       "    </tr>\n",
       "    <tr>\n",
       "      <th>4</th>\n",
       "      <td>5</td>\n",
       "      <td>0</td>\n",
       "      <td>factsguide: society now    #motivation</td>\n",
       "    </tr>\n",
       "  </tbody>\n",
       "</table>\n",
       "</div>"
      ],
      "text/plain": [
       "   id  label                                              tweet\n",
       "0   1      0   @user when a father is dysfunctional and is s...\n",
       "1   2      0  @user @user thanks for #lyft credit i can't us...\n",
       "2   3      0                                bihday your majesty\n",
       "3   4      0  #model   i love u take with u all the time in ...\n",
       "4   5      0             factsguide: society now    #motivation"
      ]
     },
     "execution_count": 4,
     "metadata": {},
     "output_type": "execute_result"
    }
   ],
   "source": [
    "normal_tweet = df[df.label == 0]\n",
    "normal_tweet.head()"
   ]
  },
  {
   "cell_type": "code",
   "execution_count": 5,
   "id": "electric-material",
   "metadata": {
    "execution": {
     "iopub.execute_input": "2021-06-17T13:54:06.420333Z",
     "iopub.status.busy": "2021-06-17T13:54:06.419506Z",
     "iopub.status.idle": "2021-06-17T13:54:07.026107Z",
     "shell.execute_reply": "2021-06-17T13:54:07.026676Z",
     "shell.execute_reply.started": "2021-06-01T21:09:46.563091Z"
    },
    "id": "6Nszmpmk1FuA",
    "outputId": "3a32c840-a22d-4c38-8c50-01ae9353afb3",
    "papermill": {
     "duration": 0.645834,
     "end_time": "2021-06-17T13:54:07.026893",
     "exception": false,
     "start_time": "2021-06-17T13:54:06.381059",
     "status": "completed"
    },
    "tags": []
   },
   "outputs": [
    {
     "data": {
      "image/png": "[encoded data removed]",
      "text/plain": [
       "<Figure size 1440x432 with 1 Axes>"
      ]
     },
     "metadata": {
      "needs_background": "light"
     },
     "output_type": "display_data"
    }
   ],
   "source": [
    "# Hate Word clouds\n",
    "from os import path\n",
    "from PIL import Image\n",
    "from wordcloud import WordCloud, STOPWORDS, ImageColorGenerator\n",
    "text = \" \".join(review for review in hate_tweet.tweet)\n",
    "wordcloud = WordCloud(max_font_size=50, max_words=100, background_color=\"white\").generate(text)\n",
    "fig = plt.figure(figsize = (20, 6)) \n",
    "plt.imshow(wordcloud, interpolation=\"bilinear\")\n",
    "plt.axis(\"off\")\n",
    "plt.show()"
   ]
  },
  {
   "cell_type": "code",
   "execution_count": 6,
   "id": "animated-table",
   "metadata": {
    "execution": {
     "iopub.execute_input": "2021-06-17T13:54:07.122884Z",
     "iopub.status.busy": "2021-06-17T13:54:07.119731Z",
     "iopub.status.idle": "2021-06-17T13:54:07.139974Z",
     "shell.execute_reply": "2021-06-17T13:54:07.140481Z",
     "shell.execute_reply.started": "2021-06-01T21:09:47.032698Z"
    },
    "id": "EvmUr8dS1VKg",
    "outputId": "4f6951f1-2e65-4856-ceab-fe57b4edabf2",
    "papermill": {
     "duration": 0.072659,
     "end_time": "2021-06-17T13:54:07.140695",
     "exception": false,
     "start_time": "2021-06-17T13:54:07.068036",
     "status": "completed"
    },
    "tags": []
   },
   "outputs": [
    {
     "data": {
      "text/html": [
       "<div>\n",
       "<style scoped>\n",
       "    .dataframe tbody tr th:only-of-type {\n",
       "        vertical-align: middle;\n",
       "    }\n",
       "\n",
       "    .dataframe tbody tr th {\n",
       "        vertical-align: top;\n",
       "    }\n",
       "\n",
       "    .dataframe thead th {\n",
       "        text-align: right;\n",
       "    }\n",
       "</style>\n",
       "<table border=\"1\" class=\"dataframe\">\n",
       "  <thead>\n",
       "    <tr style=\"text-align: right;\">\n",
       "      <th></th>\n",
       "      <th>label</th>\n",
       "      <th>count</th>\n",
       "      <th>percentage</th>\n",
       "    </tr>\n",
       "  </thead>\n",
       "  <tbody>\n",
       "    <tr>\n",
       "      <th>0</th>\n",
       "      <td>0</td>\n",
       "      <td>29720</td>\n",
       "      <td>92.98542</td>\n",
       "    </tr>\n",
       "    <tr>\n",
       "      <th>1</th>\n",
       "      <td>1</td>\n",
       "      <td>2242</td>\n",
       "      <td>7.01458</td>\n",
       "    </tr>\n",
       "  </tbody>\n",
       "</table>\n",
       "</div>"
      ],
      "text/plain": [
       "   label  count  percentage\n",
       "0      0  29720    92.98542\n",
       "1      1   2242     7.01458"
      ]
     },
     "execution_count": 6,
     "metadata": {},
     "output_type": "execute_result"
    }
   ],
   "source": [
    "#distributions\n",
    "df_Stat=df[['label','tweet']].groupby('label').count().reset_index()\n",
    "df_Stat.columns=['label','count']\n",
    "df_Stat['percentage']=(df_Stat['count']/df_Stat['count'].sum())*100\n",
    "df_Stat"
   ]
  },
  {
   "cell_type": "code",
   "execution_count": 7,
   "id": "photographic-entrance",
   "metadata": {
    "execution": {
     "iopub.execute_input": "2021-06-17T13:54:07.228876Z",
     "iopub.status.busy": "2021-06-17T13:54:07.227722Z",
     "iopub.status.idle": "2021-06-17T13:54:07.233352Z",
     "shell.execute_reply": "2021-06-17T13:54:07.233820Z",
     "shell.execute_reply.started": "2021-06-01T21:09:47.054661Z"
    },
    "id": "5O1QZJhq9NAW",
    "papermill": {
     "duration": 0.052105,
     "end_time": "2021-06-17T13:54:07.234026",
     "exception": false,
     "start_time": "2021-06-17T13:54:07.181921",
     "status": "completed"
    },
    "tags": []
   },
   "outputs": [],
   "source": [
    "def process_tweet(tweet):\n",
    "    return \" \".join(re.sub(\"(@[A-Za-z0-9]+)|([^0-9A-Za-z \\t])\", \" \",tweet.lower()).split())"
   ]
  },
  {
   "cell_type": "code",
   "execution_count": 8,
   "id": "disturbed-departure",
   "metadata": {
    "execution": {
     "iopub.execute_input": "2021-06-17T13:54:07.321115Z",
     "iopub.status.busy": "2021-06-17T13:54:07.319986Z",
     "iopub.status.idle": "2021-06-17T13:54:07.892416Z",
     "shell.execute_reply": "2021-06-17T13:54:07.892977Z",
     "shell.execute_reply.started": "2021-06-01T21:09:47.062232Z"
    },
    "id": "8yvUJDlf9QSW",
    "outputId": "29e5088b-0261-49af-ee6e-7f0de9c0177e",
    "papermill": {
     "duration": 0.617952,
     "end_time": "2021-06-17T13:54:07.893196",
     "exception": false,
     "start_time": "2021-06-17T13:54:07.275244",
     "status": "completed"
    },
    "tags": []
   },
   "outputs": [
    {
     "data": {
      "text/html": [
       "<div>\n",
       "<style scoped>\n",
       "    .dataframe tbody tr th:only-of-type {\n",
       "        vertical-align: middle;\n",
       "    }\n",
       "\n",
       "    .dataframe tbody tr th {\n",
       "        vertical-align: top;\n",
       "    }\n",
       "\n",
       "    .dataframe thead th {\n",
       "        text-align: right;\n",
       "    }\n",
       "</style>\n",
       "<table border=\"1\" class=\"dataframe\">\n",
       "  <thead>\n",
       "    <tr style=\"text-align: right;\">\n",
       "      <th></th>\n",
       "      <th>id</th>\n",
       "      <th>label</th>\n",
       "      <th>tweet</th>\n",
       "      <th>processed_tweets</th>\n",
       "    </tr>\n",
       "  </thead>\n",
       "  <tbody>\n",
       "    <tr>\n",
       "      <th>0</th>\n",
       "      <td>1</td>\n",
       "      <td>0</td>\n",
       "      <td>@user when a father is dysfunctional and is s...</td>\n",
       "      <td>when a father is dysfunctional and is so selfi...</td>\n",
       "    </tr>\n",
       "    <tr>\n",
       "      <th>1</th>\n",
       "      <td>2</td>\n",
       "      <td>0</td>\n",
       "      <td>@user @user thanks for #lyft credit i can't us...</td>\n",
       "      <td>thanks for lyft credit i can t use cause they ...</td>\n",
       "    </tr>\n",
       "    <tr>\n",
       "      <th>2</th>\n",
       "      <td>3</td>\n",
       "      <td>0</td>\n",
       "      <td>bihday your majesty</td>\n",
       "      <td>bihday your majesty</td>\n",
       "    </tr>\n",
       "    <tr>\n",
       "      <th>3</th>\n",
       "      <td>4</td>\n",
       "      <td>0</td>\n",
       "      <td>#model   i love u take with u all the time in ...</td>\n",
       "      <td>model i love u take with u all the time in ur</td>\n",
       "    </tr>\n",
       "    <tr>\n",
       "      <th>4</th>\n",
       "      <td>5</td>\n",
       "      <td>0</td>\n",
       "      <td>factsguide: society now    #motivation</td>\n",
       "      <td>factsguide society now motivation</td>\n",
       "    </tr>\n",
       "  </tbody>\n",
       "</table>\n",
       "</div>"
      ],
      "text/plain": [
       "   id  label                                              tweet  \\\n",
       "0   1      0   @user when a father is dysfunctional and is s...   \n",
       "1   2      0  @user @user thanks for #lyft credit i can't us...   \n",
       "2   3      0                                bihday your majesty   \n",
       "3   4      0  #model   i love u take with u all the time in ...   \n",
       "4   5      0             factsguide: society now    #motivation   \n",
       "\n",
       "                                    processed_tweets  \n",
       "0  when a father is dysfunctional and is so selfi...  \n",
       "1  thanks for lyft credit i can t use cause they ...  \n",
       "2                                bihday your majesty  \n",
       "3      model i love u take with u all the time in ur  \n",
       "4                  factsguide society now motivation  "
      ]
     },
     "execution_count": 8,
     "metadata": {},
     "output_type": "execute_result"
    }
   ],
   "source": [
    "df['processed_tweets'] = df['tweet'].apply(process_tweet)\n",
    "df.head()"
   ]
  },
  {
   "cell_type": "code",
   "execution_count": 9,
   "id": "worldwide-excerpt",
   "metadata": {
    "execution": {
     "iopub.execute_input": "2021-06-17T13:54:07.980096Z",
     "iopub.status.busy": "2021-06-17T13:54:07.979161Z",
     "iopub.status.idle": "2021-06-17T13:54:08.010442Z",
     "shell.execute_reply": "2021-06-17T13:54:08.010942Z",
     "shell.execute_reply.started": "2021-06-01T21:09:47.600761Z"
    },
    "id": "Od3iCxvcHd3i",
    "outputId": "b342eec2-e0ec-4eae-c747-0642c5d87b81",
    "papermill": {
     "duration": 0.076433,
     "end_time": "2021-06-17T13:54:08.011134",
     "exception": false,
     "start_time": "2021-06-17T13:54:07.934701",
     "status": "completed"
    },
    "tags": []
   },
   "outputs": [
    {
     "name": "stdout",
     "output_type": "stream",
     "text": [
      "Random over-sampling:\n",
      "0    29720\n",
      "1    29720\n",
      "Name: label, dtype: int64\n"
     ]
    }
   ],
   "source": [
    "#As this dataset is highly imbalance we have to balance this by over sampling\n",
    "cnt_non_fraud = df[df['label'] == 0]['processed_tweets'].count()\n",
    "df_class_fraud = df[df['label'] == 1]\n",
    "df_class_nonfraud = df[df['label'] == 0]\n",
    "df_class_fraud_oversample = df_class_fraud.sample(cnt_non_fraud, replace=True)\n",
    "df_oversampled = pd.concat([df_class_nonfraud, df_class_fraud_oversample], axis=0)\n",
    "\n",
    "print('Random over-sampling:')\n",
    "print(df_oversampled['label'].value_counts())"
   ]
  },
  {
   "cell_type": "code",
   "execution_count": null,
   "id": "swedish-saying",
   "metadata": {
    "id": "h3GVavEWIv1h",
    "papermill": {
     "duration": 0.041744,
     "end_time": "2021-06-17T13:54:08.094491",
     "exception": false,
     "start_time": "2021-06-17T13:54:08.052747",
     "status": "completed"
    },
    "tags": []
   },
   "outputs": [],
   "source": []
  },
  {
   "cell_type": "code",
   "execution_count": 10,
   "id": "forced-trace",
   "metadata": {
    "execution": {
     "iopub.execute_input": "2021-06-17T13:54:08.180915Z",
     "iopub.status.busy": "2021-06-17T13:54:08.179877Z",
     "iopub.status.idle": "2021-06-17T13:54:08.194235Z",
     "shell.execute_reply": "2021-06-17T13:54:08.194736Z",
     "shell.execute_reply.started": "2021-06-01T21:09:47.63257Z"
    },
    "id": "zXqOIvz01pqn",
    "papermill": {
     "duration": 0.059311,
     "end_time": "2021-06-17T13:54:08.194967",
     "exception": false,
     "start_time": "2021-06-17T13:54:08.135656",
     "status": "completed"
    },
    "tags": []
   },
   "outputs": [],
   "source": [
    "# Split data into training and test sets\n",
    "from sklearn.model_selection import train_test_split\n",
    "X = df_oversampled['processed_tweets']\n",
    "y = df_oversampled['label']\n",
    "\n",
    "X_train, X_test, y_train, y_test = train_test_split(X, y, test_size=0.2, stratify = None)"
   ]
  },
  {
   "cell_type": "code",
   "execution_count": 11,
   "id": "noticed-halifax",
   "metadata": {
    "execution": {
     "iopub.execute_input": "2021-06-17T13:54:08.282585Z",
     "iopub.status.busy": "2021-06-17T13:54:08.281609Z",
     "iopub.status.idle": "2021-06-17T13:54:08.306851Z",
     "shell.execute_reply": "2021-06-17T13:54:08.307355Z",
     "shell.execute_reply.started": "2021-06-01T21:09:47.646713Z"
    },
    "id": "UBJqpwsI180r",
    "papermill": {
     "duration": 0.07054,
     "end_time": "2021-06-17T13:54:08.307541",
     "exception": false,
     "start_time": "2021-06-17T13:54:08.237001",
     "status": "completed"
    },
    "tags": []
   },
   "outputs": [],
   "source": [
    "from sklearn.feature_extraction.text import CountVectorizer, TfidfTransformer\n",
    "count_vect = CountVectorizer(stop_words='english')\n",
    "transformer = TfidfTransformer(norm='l2',sublinear_tf=True)"
   ]
  },
  {
   "cell_type": "code",
   "execution_count": 12,
   "id": "beginning-shade",
   "metadata": {
    "execution": {
     "iopub.execute_input": "2021-06-17T13:54:08.395644Z",
     "iopub.status.busy": "2021-06-17T13:54:08.394565Z",
     "iopub.status.idle": "2021-06-17T13:54:09.469039Z",
     "shell.execute_reply": "2021-06-17T13:54:09.469648Z",
     "shell.execute_reply.started": "2021-06-01T21:09:47.670585Z"
    },
    "id": "hBk36inY7UvW",
    "papermill": {
     "duration": 1.121265,
     "end_time": "2021-06-17T13:54:09.469859",
     "exception": false,
     "start_time": "2021-06-17T13:54:08.348594",
     "status": "completed"
    },
    "tags": []
   },
   "outputs": [],
   "source": [
    "x_train_counts = count_vect.fit_transform(X_train)\n",
    "x_train_tfidf = transformer.fit_transform(x_train_counts)"
   ]
  },
  {
   "cell_type": "code",
   "execution_count": 13,
   "id": "interesting-officer",
   "metadata": {
    "execution": {
     "iopub.execute_input": "2021-06-17T13:54:09.560839Z",
     "iopub.status.busy": "2021-06-17T13:54:09.559791Z",
     "iopub.status.idle": "2021-06-17T13:54:09.567001Z",
     "shell.execute_reply": "2021-06-17T13:54:09.566458Z",
     "shell.execute_reply.started": "2021-06-01T21:09:48.757494Z"
    },
    "id": "ajy-_X-W-A1l",
    "outputId": "6651e076-c6bc-49dc-bb83-3f3ed8fdf48e",
    "papermill": {
     "duration": 0.054926,
     "end_time": "2021-06-17T13:54:09.567164",
     "exception": false,
     "start_time": "2021-06-17T13:54:09.512238",
     "status": "completed"
    },
    "tags": []
   },
   "outputs": [
    {
     "name": "stdout",
     "output_type": "stream",
     "text": [
      "(47552, 34061)\n",
      "(47552, 34061)\n"
     ]
    }
   ],
   "source": [
    "print(x_train_counts.shape)\n",
    "print(x_train_tfidf.shape)"
   ]
  },
  {
   "cell_type": "code",
   "execution_count": 14,
   "id": "creative-matthew",
   "metadata": {
    "execution": {
     "iopub.execute_input": "2021-06-17T13:54:09.683021Z",
     "iopub.status.busy": "2021-06-17T13:54:09.667436Z",
     "iopub.status.idle": "2021-06-17T13:54:09.899456Z",
     "shell.execute_reply": "2021-06-17T13:54:09.898752Z",
     "shell.execute_reply.started": "2021-06-01T21:09:48.764681Z"
    },
    "id": "3sKwi249-DEL",
    "papermill": {
     "duration": 0.289761,
     "end_time": "2021-06-17T13:54:09.899623",
     "exception": false,
     "start_time": "2021-06-17T13:54:09.609862",
     "status": "completed"
    },
    "tags": []
   },
   "outputs": [],
   "source": [
    "x_test_counts = count_vect.transform(X_test)\n",
    "x_test_tfidf = transformer.transform(x_test_counts)"
   ]
  },
  {
   "cell_type": "code",
   "execution_count": 15,
   "id": "educational-departure",
   "metadata": {
    "execution": {
     "iopub.execute_input": "2021-06-17T13:54:09.993125Z",
     "iopub.status.busy": "2021-06-17T13:54:09.991519Z",
     "iopub.status.idle": "2021-06-17T13:57:24.621975Z",
     "shell.execute_reply": "2021-06-17T13:57:24.622506Z",
     "shell.execute_reply.started": "2021-06-01T21:09:48.916558Z"
    },
    "id": "7sVj_gzmalM1",
    "outputId": "2deb1b0e-8612-4e7a-c881-ed68e68ba793",
    "papermill": {
     "duration": 194.680528,
     "end_time": "2021-06-17T13:57:24.622708",
     "exception": false,
     "start_time": "2021-06-17T13:54:09.942180",
     "status": "completed"
    },
    "tags": []
   },
   "outputs": [
    {
     "data": {
      "text/plain": [
       "RandomForestClassifier(n_estimators=500)"
      ]
     },
     "execution_count": 15,
     "metadata": {},
     "output_type": "execute_result"
    }
   ],
   "source": [
    "from sklearn.ensemble import RandomForestClassifier\n",
    "model = RandomForestClassifier(n_estimators=500)\n",
    "model.fit(x_train_tfidf,y_train)"
   ]
  },
  {
   "cell_type": "code",
   "execution_count": 16,
   "id": "lasting-lending",
   "metadata": {
    "execution": {
     "iopub.execute_input": "2021-06-17T13:57:24.712102Z",
     "iopub.status.busy": "2021-06-17T13:57:24.710970Z",
     "iopub.status.idle": "2021-06-17T13:57:31.319493Z",
     "shell.execute_reply": "2021-06-17T13:57:31.318882Z",
     "shell.execute_reply.started": "2021-06-01T21:13:29.277434Z"
    },
    "id": "1lM-Lzkka0H7",
    "papermill": {
     "duration": 6.655194,
     "end_time": "2021-06-17T13:57:31.319634",
     "exception": false,
     "start_time": "2021-06-17T13:57:24.664440",
     "status": "completed"
    },
    "tags": []
   },
   "outputs": [],
   "source": [
    "predictions = model.predict(x_test_tfidf)"
   ]
  },
  {
   "cell_type": "code",
   "execution_count": 17,
   "id": "thrown-surprise",
   "metadata": {
    "execution": {
     "iopub.execute_input": "2021-06-17T13:57:31.406154Z",
     "iopub.status.busy": "2021-06-17T13:57:31.405552Z",
     "iopub.status.idle": "2021-06-17T13:57:31.448115Z",
     "shell.execute_reply": "2021-06-17T13:57:31.447565Z",
     "shell.execute_reply.started": "2021-06-01T21:13:35.620964Z"
    },
    "id": "3BWzh5xS-cGi",
    "outputId": "b8d58b4f-9b00-4649-b697-0797fb52a101",
    "papermill": {
     "duration": 0.086576,
     "end_time": "2021-06-17T13:57:31.448254",
     "exception": false,
     "start_time": "2021-06-17T13:57:31.361678",
     "status": "completed"
    },
    "tags": []
   },
   "outputs": [
    {
     "name": "stdout",
     "output_type": "stream",
     "text": [
      "[[5633  204]\n",
      " [   0 6051]]\n",
      "              precision    recall  f1-score   support\n",
      "\n",
      "           0       1.00      0.97      0.98      5837\n",
      "           1       0.97      1.00      0.98      6051\n",
      "\n",
      "    accuracy                           0.98     11888\n",
      "   macro avg       0.98      0.98      0.98     11888\n",
      "weighted avg       0.98      0.98      0.98     11888\n",
      "\n"
     ]
    }
   ],
   "source": [
    "\n",
    "print(confusion_matrix(y_test,predictions))\n",
    "print(classification_report(y_test, predictions))"
   ]
  },
  {
   "cell_type": "code",
   "execution_count": 18,
   "id": "asian-scanning",
   "metadata": {
    "execution": {
     "iopub.execute_input": "2021-06-17T13:57:31.545952Z",
     "iopub.status.busy": "2021-06-17T13:57:31.545304Z",
     "iopub.status.idle": "2021-06-17T13:57:37.782124Z",
     "shell.execute_reply": "2021-06-17T13:57:37.781607Z",
     "shell.execute_reply.started": "2021-06-01T21:13:35.667261Z"
    },
    "id": "TlDGH37Q-mKP",
    "outputId": "f69ce116-4b58-48d2-a478-c0c3bdac60f8",
    "papermill": {
     "duration": 6.283452,
     "end_time": "2021-06-17T13:57:37.782251",
     "exception": false,
     "start_time": "2021-06-17T13:57:31.498799",
     "status": "completed"
    },
    "tags": []
   },
   "outputs": [
    {
     "name": "stdout",
     "output_type": "stream",
     "text": [
      "[13:57:31] WARNING: ../src/learner.cc:1095: Starting in XGBoost 1.3.0, the default evaluation metric used with the objective 'binary:logistic' was changed from 'error' to 'logloss'. Explicitly set eval_metric if you'd like to restore the old behavior.\n"
     ]
    },
    {
     "data": {
      "text/plain": [
       "XGBClassifier(base_score=0.5, booster='gbtree', colsample_bylevel=1,\n",
       "              colsample_bynode=1, colsample_bytree=1, gamma=0, gpu_id=-1,\n",
       "              importance_type='gain', interaction_constraints='',\n",
       "              learning_rate=0.9, max_delta_step=0, max_depth=6,\n",
       "              min_child_weight=1, missing=nan, monotone_constraints='()',\n",
       "              n_estimators=100, n_jobs=4, num_parallel_tree=1, random_state=22,\n",
       "              reg_alpha=0, reg_lambda=1, scale_pos_weight=1, subsample=1,\n",
       "              tree_method='exact', validate_parameters=1, verbosity=None)"
      ]
     },
     "execution_count": 18,
     "metadata": {},
     "output_type": "execute_result"
    }
   ],
   "source": [
    "#Building XGBoost Model\n",
    "from xgboost import XGBClassifier\n",
    "model_bow = XGBClassifier(random_state=22,learning_rate=0.9)\n",
    "model_bow.fit(x_train_tfidf,y_train)"
   ]
  },
  {
   "cell_type": "code",
   "execution_count": 19,
   "id": "appropriate-municipality",
   "metadata": {
    "execution": {
     "iopub.execute_input": "2021-06-17T13:57:37.872100Z",
     "iopub.status.busy": "2021-06-17T13:57:37.871507Z",
     "iopub.status.idle": "2021-06-17T13:57:37.916250Z",
     "shell.execute_reply": "2021-06-17T13:57:37.916861Z",
     "shell.execute_reply.started": "2021-06-01T21:13:40.395074Z"
    },
    "id": "Dd9tZuCY-skn",
    "papermill": {
     "duration": 0.092017,
     "end_time": "2021-06-17T13:57:37.917063",
     "exception": false,
     "start_time": "2021-06-17T13:57:37.825046",
     "status": "completed"
    },
    "tags": []
   },
   "outputs": [],
   "source": [
    "predict_xgb = model_bow.predict(x_test_tfidf)"
   ]
  },
  {
   "cell_type": "code",
   "execution_count": 20,
   "id": "attractive-pregnancy",
   "metadata": {
    "execution": {
     "iopub.execute_input": "2021-06-17T13:57:38.013253Z",
     "iopub.status.busy": "2021-06-17T13:57:38.012605Z",
     "iopub.status.idle": "2021-06-17T13:57:38.053326Z",
     "shell.execute_reply": "2021-06-17T13:57:38.052648Z",
     "shell.execute_reply.started": "2021-06-01T21:13:40.458607Z"
    },
    "id": "gZ1DTtbX-vGS",
    "outputId": "a7fb0197-b0f1-4c7a-83e5-6e31bd3c464b",
    "papermill": {
     "duration": 0.090722,
     "end_time": "2021-06-17T13:57:38.053465",
     "exception": false,
     "start_time": "2021-06-17T13:57:37.962743",
     "status": "completed"
    },
    "tags": []
   },
   "outputs": [
    {
     "name": "stdout",
     "output_type": "stream",
     "text": [
      "[[5526  311]\n",
      " [ 133 5918]]\n",
      "              precision    recall  f1-score   support\n",
      "\n",
      "           0       0.98      0.95      0.96      5837\n",
      "           1       0.95      0.98      0.96      6051\n",
      "\n",
      "    accuracy                           0.96     11888\n",
      "   macro avg       0.96      0.96      0.96     11888\n",
      "weighted avg       0.96      0.96      0.96     11888\n",
      "\n"
     ]
    }
   ],
   "source": [
    "print(confusion_matrix(y_test,predict_xgb))\n",
    "print(classification_report(y_test,predict_xgb))"
   ]
  },
  {
   "cell_type": "code",
   "execution_count": 21,
   "id": "pressed-resistance",
   "metadata": {
    "execution": {
     "iopub.execute_input": "2021-06-17T13:57:38.145537Z",
     "iopub.status.busy": "2021-06-17T13:57:38.144881Z",
     "iopub.status.idle": "2021-06-17T13:57:38.364139Z",
     "shell.execute_reply": "2021-06-17T13:57:38.363570Z",
     "shell.execute_reply.started": "2021-06-01T21:13:40.492944Z"
    },
    "id": "L6VTQUXq-2SW",
    "outputId": "aa542bbb-3da4-4605-b789-b889335bd87b",
    "papermill": {
     "duration": 0.266819,
     "end_time": "2021-06-17T13:57:38.364292",
     "exception": false,
     "start_time": "2021-06-17T13:57:38.097473",
     "status": "completed"
    },
    "tags": []
   },
   "outputs": [
    {
     "data": {
      "text/plain": [
       "LinearSVC()"
      ]
     },
     "execution_count": 21,
     "metadata": {},
     "output_type": "execute_result"
    }
   ],
   "source": [
    "#SVM Model\n",
    "from sklearn import svm\n",
    "lin_clf = svm.LinearSVC()\n",
    "lin_clf.fit(x_train_tfidf,y_train)"
   ]
  },
  {
   "cell_type": "code",
   "execution_count": 22,
   "id": "running-nutrition",
   "metadata": {
    "execution": {
     "iopub.execute_input": "2021-06-17T13:57:38.457942Z",
     "iopub.status.busy": "2021-06-17T13:57:38.457170Z",
     "iopub.status.idle": "2021-06-17T13:57:38.460945Z",
     "shell.execute_reply": "2021-06-17T13:57:38.460361Z",
     "shell.execute_reply.started": "2021-06-01T21:13:40.65782Z"
    },
    "id": "j3Q9jnHO-6nn",
    "papermill": {
     "duration": 0.052647,
     "end_time": "2021-06-17T13:57:38.461077",
     "exception": false,
     "start_time": "2021-06-17T13:57:38.408430",
     "status": "completed"
    },
    "tags": []
   },
   "outputs": [],
   "source": [
    "predict_svm = lin_clf.predict(x_test_tfidf)"
   ]
  },
  {
   "cell_type": "code",
   "execution_count": 23,
   "id": "organizational-dietary",
   "metadata": {
    "execution": {
     "iopub.execute_input": "2021-06-17T13:57:38.553205Z",
     "iopub.status.busy": "2021-06-17T13:57:38.552583Z",
     "iopub.status.idle": "2021-06-17T13:57:38.594923Z",
     "shell.execute_reply": "2021-06-17T13:57:38.595843Z",
     "shell.execute_reply.started": "2021-06-01T21:13:40.662877Z"
    },
    "id": "LgUVaWNf-82O",
    "outputId": "c0751f86-9f53-46a4-8f7d-3abe07903d88",
    "papermill": {
     "duration": 0.091437,
     "end_time": "2021-06-17T13:57:38.596098",
     "exception": false,
     "start_time": "2021-06-17T13:57:38.504661",
     "status": "completed"
    },
    "tags": []
   },
   "outputs": [
    {
     "name": "stdout",
     "output_type": "stream",
     "text": [
      "[[5706  131]\n",
      " [  19 6032]]\n",
      "              precision    recall  f1-score   support\n",
      "\n",
      "           0       1.00      0.98      0.99      5837\n",
      "           1       0.98      1.00      0.99      6051\n",
      "\n",
      "    accuracy                           0.99     11888\n",
      "   macro avg       0.99      0.99      0.99     11888\n",
      "weighted avg       0.99      0.99      0.99     11888\n",
      "\n"
     ]
    }
   ],
   "source": [
    "from sklearn.metrics import confusion_matrix,f1_score\n",
    "print(confusion_matrix(y_test,predict_svm))\n",
    "print(classification_report(y_test, predict_svm))"
   ]
  },
  {
   "cell_type": "code",
   "execution_count": 24,
   "id": "copyrighted-presentation",
   "metadata": {
    "execution": {
     "iopub.execute_input": "2021-06-17T13:57:38.689109Z",
     "iopub.status.busy": "2021-06-17T13:57:38.688229Z",
     "iopub.status.idle": "2021-06-17T13:57:38.691576Z",
     "shell.execute_reply": "2021-06-17T13:57:38.692414Z",
     "shell.execute_reply.started": "2021-06-01T21:13:40.70715Z"
    },
    "id": "HhUbyX-0-_by",
    "papermill": {
     "duration": 0.051797,
     "end_time": "2021-06-17T13:57:38.692596",
     "exception": false,
     "start_time": "2021-06-17T13:57:38.640799",
     "status": "completed"
    },
    "tags": []
   },
   "outputs": [],
   "source": [
    "#Logistic Regression Model\n",
    "from sklearn.linear_model import LogisticRegression"
   ]
  },
  {
   "cell_type": "code",
   "execution_count": 25,
   "id": "functional-czech",
   "metadata": {
    "execution": {
     "iopub.execute_input": "2021-06-17T13:57:38.784639Z",
     "iopub.status.busy": "2021-06-17T13:57:38.783955Z",
     "iopub.status.idle": "2021-06-17T13:57:38.787038Z",
     "shell.execute_reply": "2021-06-17T13:57:38.787487Z",
     "shell.execute_reply.started": "2021-06-01T21:13:40.711716Z"
    },
    "id": "BZ4Z1eaB_CEe",
    "papermill": {
     "duration": 0.050216,
     "end_time": "2021-06-17T13:57:38.787658",
     "exception": false,
     "start_time": "2021-06-17T13:57:38.737442",
     "status": "completed"
    },
    "tags": []
   },
   "outputs": [],
   "source": [
    "logreg = LogisticRegression(random_state=42)"
   ]
  },
  {
   "cell_type": "code",
   "execution_count": 26,
   "id": "welcome-marking",
   "metadata": {
    "execution": {
     "iopub.execute_input": "2021-06-17T13:57:38.878689Z",
     "iopub.status.busy": "2021-06-17T13:57:38.877988Z",
     "iopub.status.idle": "2021-06-17T13:57:40.012370Z",
     "shell.execute_reply": "2021-06-17T13:57:40.013619Z",
     "shell.execute_reply.started": "2021-06-01T21:13:40.728263Z"
    },
    "id": "r5cxjtTYCQDC",
    "outputId": "c8e53c1d-e00d-4b85-efcb-759d263f5af3",
    "papermill": {
     "duration": 1.182373,
     "end_time": "2021-06-17T13:57:40.013868",
     "exception": false,
     "start_time": "2021-06-17T13:57:38.831495",
     "status": "completed"
    },
    "tags": []
   },
   "outputs": [
    {
     "data": {
      "text/plain": [
       "LogisticRegression(random_state=42)"
      ]
     },
     "execution_count": 26,
     "metadata": {},
     "output_type": "execute_result"
    }
   ],
   "source": [
    "#Building Logistic Regression  Model\n",
    "logreg.fit(x_train_tfidf,y_train)"
   ]
  },
  {
   "cell_type": "code",
   "execution_count": 27,
   "id": "experienced-satellite",
   "metadata": {
    "execution": {
     "iopub.execute_input": "2021-06-17T13:57:40.164763Z",
     "iopub.status.busy": "2021-06-17T13:57:40.163770Z",
     "iopub.status.idle": "2021-06-17T13:57:40.166084Z",
     "shell.execute_reply": "2021-06-17T13:57:40.166588Z",
     "shell.execute_reply.started": "2021-06-01T21:13:42.381068Z"
    },
    "id": "ZvYiYPD2CTwV",
    "papermill": {
     "duration": 0.070684,
     "end_time": "2021-06-17T13:57:40.166745",
     "exception": false,
     "start_time": "2021-06-17T13:57:40.096061",
     "status": "completed"
    },
    "tags": []
   },
   "outputs": [],
   "source": [
    "predict_log = logreg.predict(x_test_tfidf)"
   ]
  },
  {
   "cell_type": "code",
   "execution_count": 28,
   "id": "right-rehabilitation",
   "metadata": {
    "execution": {
     "iopub.execute_input": "2021-06-17T13:57:40.259325Z",
     "iopub.status.busy": "2021-06-17T13:57:40.258378Z",
     "iopub.status.idle": "2021-06-17T13:57:40.302150Z",
     "shell.execute_reply": "2021-06-17T13:57:40.301468Z",
     "shell.execute_reply.started": "2021-06-01T21:13:42.388952Z"
    },
    "id": "M1DmAZVKF7az",
    "outputId": "eff108fb-3f27-4d56-95af-2584dca2feae",
    "papermill": {
     "duration": 0.091215,
     "end_time": "2021-06-17T13:57:40.302308",
     "exception": false,
     "start_time": "2021-06-17T13:57:40.211093",
     "status": "completed"
    },
    "tags": []
   },
   "outputs": [
    {
     "name": "stdout",
     "output_type": "stream",
     "text": [
      "[[5629  208]\n",
      " [  55 5996]]\n",
      "              precision    recall  f1-score   support\n",
      "\n",
      "           0       0.99      0.96      0.98      5837\n",
      "           1       0.97      0.99      0.98      6051\n",
      "\n",
      "    accuracy                           0.98     11888\n",
      "   macro avg       0.98      0.98      0.98     11888\n",
      "weighted avg       0.98      0.98      0.98     11888\n",
      "\n"
     ]
    }
   ],
   "source": [
    "print(confusion_matrix(y_test,predict_log))\n",
    "print(classification_report(y_test, predict_log))"
   ]
  },
  {
   "cell_type": "code",
   "execution_count": 29,
   "id": "destroyed-palace",
   "metadata": {
    "execution": {
     "iopub.execute_input": "2021-06-17T13:57:40.397651Z",
     "iopub.status.busy": "2021-06-17T13:57:40.396685Z",
     "iopub.status.idle": "2021-06-17T13:57:40.413991Z",
     "shell.execute_reply": "2021-06-17T13:57:40.414437Z",
     "shell.execute_reply.started": "2021-06-01T21:13:42.472546Z"
    },
    "id": "lGGro66dGBvp",
    "outputId": "0ab4c615-6708-47c1-e819-eadd4f3e8f9b",
    "papermill": {
     "duration": 0.066709,
     "end_time": "2021-06-17T13:57:40.414604",
     "exception": false,
     "start_time": "2021-06-17T13:57:40.347895",
     "status": "completed"
    },
    "tags": []
   },
   "outputs": [
    {
     "data": {
      "text/plain": [
       "MultinomialNB()"
      ]
     },
     "execution_count": 29,
     "metadata": {},
     "output_type": "execute_result"
    }
   ],
   "source": [
    "from sklearn.naive_bayes import MultinomialNB\n",
    "NB = MultinomialNB()\n",
    "NB.fit(x_train_tfidf, y_train)"
   ]
  },
  {
   "cell_type": "code",
   "execution_count": 30,
   "id": "coated-restaurant",
   "metadata": {
    "execution": {
     "iopub.execute_input": "2021-06-17T13:57:40.509020Z",
     "iopub.status.busy": "2021-06-17T13:57:40.508261Z",
     "iopub.status.idle": "2021-06-17T13:57:40.512504Z",
     "shell.execute_reply": "2021-06-17T13:57:40.512997Z",
     "shell.execute_reply.started": "2021-06-01T21:13:42.494829Z"
    },
    "id": "snNrSD2zFWPD",
    "papermill": {
     "duration": 0.053909,
     "end_time": "2021-06-17T13:57:40.513178",
     "exception": false,
     "start_time": "2021-06-17T13:57:40.459269",
     "status": "completed"
    },
    "tags": []
   },
   "outputs": [],
   "source": [
    "predict_nb = NB.predict(x_test_tfidf)"
   ]
  },
  {
   "cell_type": "code",
   "execution_count": 31,
   "id": "simple-laugh",
   "metadata": {
    "execution": {
     "iopub.execute_input": "2021-06-17T13:57:40.607530Z",
     "iopub.status.busy": "2021-06-17T13:57:40.606850Z",
     "iopub.status.idle": "2021-06-17T13:57:40.649437Z",
     "shell.execute_reply": "2021-06-17T13:57:40.650130Z",
     "shell.execute_reply.started": "2021-06-01T21:13:42.503529Z"
    },
    "id": "JdgoVHp5FfpK",
    "outputId": "8ea2c93d-aeb7-4956-c387-04f1c55c5fe1",
    "papermill": {
     "duration": 0.091546,
     "end_time": "2021-06-17T13:57:40.650382",
     "exception": false,
     "start_time": "2021-06-17T13:57:40.558836",
     "status": "completed"
    },
    "tags": []
   },
   "outputs": [
    {
     "name": "stdout",
     "output_type": "stream",
     "text": [
      "[[5404  433]\n",
      " [  95 5956]]\n",
      "              precision    recall  f1-score   support\n",
      "\n",
      "           0       0.98      0.93      0.95      5837\n",
      "           1       0.93      0.98      0.96      6051\n",
      "\n",
      "    accuracy                           0.96     11888\n",
      "   macro avg       0.96      0.96      0.96     11888\n",
      "weighted avg       0.96      0.96      0.96     11888\n",
      "\n"
     ]
    }
   ],
   "source": [
    "print(confusion_matrix(y_test,predict_nb))\n",
    "print(classification_report(y_test, predict_nb))"
   ]
  },
  {
   "cell_type": "code",
   "execution_count": 32,
   "id": "hourly-mexican",
   "metadata": {
    "execution": {
     "iopub.execute_input": "2021-06-17T13:57:40.744902Z",
     "iopub.status.busy": "2021-06-17T13:57:40.744301Z",
     "iopub.status.idle": "2021-06-17T13:57:40.828431Z",
     "shell.execute_reply": "2021-06-17T13:57:40.828899Z",
     "shell.execute_reply.started": "2021-06-01T21:13:42.551075Z"
    },
    "id": "9tzgCxABFkee",
    "outputId": "a4e62814-d6d0-40cd-9057-5dc020913599",
    "papermill": {
     "duration": 0.132838,
     "end_time": "2021-06-17T13:57:40.829078",
     "exception": false,
     "start_time": "2021-06-17T13:57:40.696240",
     "status": "completed"
    },
    "tags": []
   },
   "outputs": [
    {
     "data": {
      "text/html": [
       "<div>\n",
       "<style scoped>\n",
       "    .dataframe tbody tr th:only-of-type {\n",
       "        vertical-align: middle;\n",
       "    }\n",
       "\n",
       "    .dataframe tbody tr th {\n",
       "        vertical-align: top;\n",
       "    }\n",
       "\n",
       "    .dataframe thead th {\n",
       "        text-align: right;\n",
       "    }\n",
       "</style>\n",
       "<table border=\"1\" class=\"dataframe\">\n",
       "  <thead>\n",
       "    <tr style=\"text-align: right;\">\n",
       "      <th></th>\n",
       "      <th>id</th>\n",
       "      <th>tweet</th>\n",
       "    </tr>\n",
       "  </thead>\n",
       "  <tbody>\n",
       "    <tr>\n",
       "      <th>0</th>\n",
       "      <td>31963</td>\n",
       "      <td>#studiolife #aislife #requires #passion #dedic...</td>\n",
       "    </tr>\n",
       "    <tr>\n",
       "      <th>1</th>\n",
       "      <td>31964</td>\n",
       "      <td>@user #white #supremacists want everyone to s...</td>\n",
       "    </tr>\n",
       "    <tr>\n",
       "      <th>2</th>\n",
       "      <td>31965</td>\n",
       "      <td>safe ways to heal your #acne!!    #altwaystohe...</td>\n",
       "    </tr>\n",
       "    <tr>\n",
       "      <th>3</th>\n",
       "      <td>31966</td>\n",
       "      <td>is the hp and the cursed child book up for res...</td>\n",
       "    </tr>\n",
       "    <tr>\n",
       "      <th>4</th>\n",
       "      <td>31967</td>\n",
       "      <td>3rd #bihday to my amazing, hilarious #nephew...</td>\n",
       "    </tr>\n",
       "  </tbody>\n",
       "</table>\n",
       "</div>"
      ],
      "text/plain": [
       "      id                                              tweet\n",
       "0  31963  #studiolife #aislife #requires #passion #dedic...\n",
       "1  31964   @user #white #supremacists want everyone to s...\n",
       "2  31965  safe ways to heal your #acne!!    #altwaystohe...\n",
       "3  31966  is the hp and the cursed child book up for res...\n",
       "4  31967    3rd #bihday to my amazing, hilarious #nephew..."
      ]
     },
     "execution_count": 32,
     "metadata": {},
     "output_type": "execute_result"
    }
   ],
   "source": [
    "#Test Data Set\n",
    "df_test = pd.read_csv(\"../input/twitter-hate-speech/test_tweets_anuFYb8.csv\")\n",
    "df_test.head()"
   ]
  },
  {
   "cell_type": "code",
   "execution_count": 33,
   "id": "lightweight-mineral",
   "metadata": {
    "execution": {
     "iopub.execute_input": "2021-06-17T13:57:40.926686Z",
     "iopub.status.busy": "2021-06-17T13:57:40.925954Z",
     "iopub.status.idle": "2021-06-17T13:57:40.929561Z",
     "shell.execute_reply": "2021-06-17T13:57:40.928921Z",
     "shell.execute_reply.started": "2021-06-01T21:13:42.619215Z"
    },
    "id": "c1cz9v68Lawz",
    "outputId": "e7b981de-2954-4cfd-a717-ed39f1a4d229",
    "papermill": {
     "duration": 0.054319,
     "end_time": "2021-06-17T13:57:40.929699",
     "exception": false,
     "start_time": "2021-06-17T13:57:40.875380",
     "status": "completed"
    },
    "tags": []
   },
   "outputs": [
    {
     "data": {
      "text/plain": [
       "(17197, 2)"
      ]
     },
     "execution_count": 33,
     "metadata": {},
     "output_type": "execute_result"
    }
   ],
   "source": [
    "df_test.shape"
   ]
  },
  {
   "cell_type": "code",
   "execution_count": 34,
   "id": "heavy-james",
   "metadata": {
    "execution": {
     "iopub.execute_input": "2021-06-17T13:57:41.069579Z",
     "iopub.status.busy": "2021-06-17T13:57:41.053792Z",
     "iopub.status.idle": "2021-06-17T13:57:41.326338Z",
     "shell.execute_reply": "2021-06-17T13:57:41.325727Z",
     "shell.execute_reply.started": "2021-06-01T21:13:42.626729Z"
    },
    "id": "acIdGKHyLhLD",
    "outputId": "44bb7208-96de-4aea-dc62-99fff316d417",
    "papermill": {
     "duration": 0.350363,
     "end_time": "2021-06-17T13:57:41.326478",
     "exception": false,
     "start_time": "2021-06-17T13:57:40.976115",
     "status": "completed"
    },
    "tags": []
   },
   "outputs": [
    {
     "data": {
      "text/html": [
       "<div>\n",
       "<style scoped>\n",
       "    .dataframe tbody tr th:only-of-type {\n",
       "        vertical-align: middle;\n",
       "    }\n",
       "\n",
       "    .dataframe tbody tr th {\n",
       "        vertical-align: top;\n",
       "    }\n",
       "\n",
       "    .dataframe thead th {\n",
       "        text-align: right;\n",
       "    }\n",
       "</style>\n",
       "<table border=\"1\" class=\"dataframe\">\n",
       "  <thead>\n",
       "    <tr style=\"text-align: right;\">\n",
       "      <th></th>\n",
       "      <th>id</th>\n",
       "      <th>tweet</th>\n",
       "      <th>processed_tweets</th>\n",
       "    </tr>\n",
       "  </thead>\n",
       "  <tbody>\n",
       "    <tr>\n",
       "      <th>0</th>\n",
       "      <td>31963</td>\n",
       "      <td>#studiolife #aislife #requires #passion #dedic...</td>\n",
       "      <td>studiolife aislife requires passion dedication...</td>\n",
       "    </tr>\n",
       "    <tr>\n",
       "      <th>1</th>\n",
       "      <td>31964</td>\n",
       "      <td>@user #white #supremacists want everyone to s...</td>\n",
       "      <td>white supremacists want everyone to see the ne...</td>\n",
       "    </tr>\n",
       "    <tr>\n",
       "      <th>2</th>\n",
       "      <td>31965</td>\n",
       "      <td>safe ways to heal your #acne!!    #altwaystohe...</td>\n",
       "      <td>safe ways to heal your acne altwaystoheal heal...</td>\n",
       "    </tr>\n",
       "    <tr>\n",
       "      <th>3</th>\n",
       "      <td>31966</td>\n",
       "      <td>is the hp and the cursed child book up for res...</td>\n",
       "      <td>is the hp and the cursed child book up for res...</td>\n",
       "    </tr>\n",
       "    <tr>\n",
       "      <th>4</th>\n",
       "      <td>31967</td>\n",
       "      <td>3rd #bihday to my amazing, hilarious #nephew...</td>\n",
       "      <td>3rd bihday to my amazing hilarious nephew eli ...</td>\n",
       "    </tr>\n",
       "  </tbody>\n",
       "</table>\n",
       "</div>"
      ],
      "text/plain": [
       "      id                                              tweet  \\\n",
       "0  31963  #studiolife #aislife #requires #passion #dedic...   \n",
       "1  31964   @user #white #supremacists want everyone to s...   \n",
       "2  31965  safe ways to heal your #acne!!    #altwaystohe...   \n",
       "3  31966  is the hp and the cursed child book up for res...   \n",
       "4  31967    3rd #bihday to my amazing, hilarious #nephew...   \n",
       "\n",
       "                                    processed_tweets  \n",
       "0  studiolife aislife requires passion dedication...  \n",
       "1  white supremacists want everyone to see the ne...  \n",
       "2  safe ways to heal your acne altwaystoheal heal...  \n",
       "3  is the hp and the cursed child book up for res...  \n",
       "4  3rd bihday to my amazing hilarious nephew eli ...  "
      ]
     },
     "execution_count": 34,
     "metadata": {},
     "output_type": "execute_result"
    }
   ],
   "source": [
    "df_test['processed_tweets'] = df_test['tweet'].apply(process_tweet)\n",
    "df_test.head()"
   ]
  },
  {
   "cell_type": "code",
   "execution_count": 35,
   "id": "numerical-illinois",
   "metadata": {
    "execution": {
     "iopub.execute_input": "2021-06-17T13:57:41.485983Z",
     "iopub.status.busy": "2021-06-17T13:57:41.460654Z",
     "iopub.status.idle": "2021-06-17T13:57:41.737496Z",
     "shell.execute_reply": "2021-06-17T13:57:41.736733Z",
     "shell.execute_reply.started": "2021-06-01T21:13:42.776543Z"
    },
    "id": "9_2WV6TSLqdn",
    "papermill": {
     "duration": 0.364009,
     "end_time": "2021-06-17T13:57:41.737641",
     "exception": false,
     "start_time": "2021-06-17T13:57:41.373632",
     "status": "completed"
    },
    "tags": []
   },
   "outputs": [],
   "source": [
    "X = df_test['processed_tweets']\n",
    "x_test_counts = count_vect.transform(X)\n",
    "x_test_tfidf = transformer.transform(x_test_counts)"
   ]
  },
  {
   "cell_type": "code",
   "execution_count": 36,
   "id": "tough-carbon",
   "metadata": {
    "execution": {
     "iopub.execute_input": "2021-06-17T13:57:41.834906Z",
     "iopub.status.busy": "2021-06-17T13:57:41.834265Z",
     "iopub.status.idle": "2021-06-17T13:57:41.853502Z",
     "shell.execute_reply": "2021-06-17T13:57:41.854022Z",
     "shell.execute_reply.started": "2021-06-01T21:13:42.962315Z"
    },
    "id": "Yv-XOSo2MKvE",
    "outputId": "dc3c7a59-2353-46cc-8877-040ebf080212",
    "papermill": {
     "duration": 0.069044,
     "end_time": "2021-06-17T13:57:41.854198",
     "exception": false,
     "start_time": "2021-06-17T13:57:41.785154",
     "status": "completed"
    },
    "tags": []
   },
   "outputs": [
    {
     "data": {
      "text/html": [
       "<div>\n",
       "<style scoped>\n",
       "    .dataframe tbody tr th:only-of-type {\n",
       "        vertical-align: middle;\n",
       "    }\n",
       "\n",
       "    .dataframe tbody tr th {\n",
       "        vertical-align: top;\n",
       "    }\n",
       "\n",
       "    .dataframe thead th {\n",
       "        text-align: right;\n",
       "    }\n",
       "</style>\n",
       "<table border=\"1\" class=\"dataframe\">\n",
       "  <thead>\n",
       "    <tr style=\"text-align: right;\">\n",
       "      <th></th>\n",
       "      <th>id</th>\n",
       "      <th>tweet</th>\n",
       "      <th>processed_tweets</th>\n",
       "      <th>predict_nb</th>\n",
       "    </tr>\n",
       "  </thead>\n",
       "  <tbody>\n",
       "    <tr>\n",
       "      <th>19</th>\n",
       "      <td>31982</td>\n",
       "      <td>thought factory: bbc neutrality on right wing ...</td>\n",
       "      <td>thought factory bbc neutrality on right wing f...</td>\n",
       "      <td>1</td>\n",
       "    </tr>\n",
       "    <tr>\n",
       "      <th>26</th>\n",
       "      <td>31989</td>\n",
       "      <td>chick gets fucked hottest naked lady</td>\n",
       "      <td>chick gets fucked hottest naked lady</td>\n",
       "      <td>1</td>\n",
       "    </tr>\n",
       "    <tr>\n",
       "      <th>33</th>\n",
       "      <td>31996</td>\n",
       "      <td>suppo the #taiji fisherman! no bullying! no ra...</td>\n",
       "      <td>suppo the taiji fisherman no bullying no racis...</td>\n",
       "      <td>1</td>\n",
       "    </tr>\n",
       "    <tr>\n",
       "      <th>34</th>\n",
       "      <td>31997</td>\n",
       "      <td>i say we because i'm speaking collectively. i'...</td>\n",
       "      <td>i say we because i m speaking collectively i v...</td>\n",
       "      <td>1</td>\n",
       "    </tr>\n",
       "    <tr>\n",
       "      <th>35</th>\n",
       "      <td>31998</td>\n",
       "      <td>wish we could talk</td>\n",
       "      <td>wish we could talk</td>\n",
       "      <td>1</td>\n",
       "    </tr>\n",
       "    <tr>\n",
       "      <th>...</th>\n",
       "      <td>...</td>\n",
       "      <td>...</td>\n",
       "      <td>...</td>\n",
       "      <td>...</td>\n",
       "    </tr>\n",
       "    <tr>\n",
       "      <th>17167</th>\n",
       "      <td>49130</td>\n",
       "      <td>people do anything for fucking attention nowad...</td>\n",
       "      <td>people do anything for fucking attention nowadays</td>\n",
       "      <td>1</td>\n",
       "    </tr>\n",
       "    <tr>\n",
       "      <th>17176</th>\n",
       "      <td>49139</td>\n",
       "      <td>@user @user are the most racist pay ever!!!!!</td>\n",
       "      <td>are the most racist pay ever</td>\n",
       "      <td>1</td>\n",
       "    </tr>\n",
       "    <tr>\n",
       "      <th>17188</th>\n",
       "      <td>49151</td>\n",
       "      <td>black professor demonizes, proposes nazi style...</td>\n",
       "      <td>black professor demonizes proposes nazi style ...</td>\n",
       "      <td>1</td>\n",
       "    </tr>\n",
       "    <tr>\n",
       "      <th>17192</th>\n",
       "      <td>49155</td>\n",
       "      <td>thought factory: left-right polarisation! #tru...</td>\n",
       "      <td>thought factory left right polarisation trump ...</td>\n",
       "      <td>1</td>\n",
       "    </tr>\n",
       "    <tr>\n",
       "      <th>17194</th>\n",
       "      <td>49157</td>\n",
       "      <td>#hillary #campaigned today in #ohio((omg)) &amp;am...</td>\n",
       "      <td>hillary campaigned today in ohio omg amp used ...</td>\n",
       "      <td>1</td>\n",
       "    </tr>\n",
       "  </tbody>\n",
       "</table>\n",
       "<p>2332 rows × 4 columns</p>\n",
       "</div>"
      ],
      "text/plain": [
       "          id                                              tweet  \\\n",
       "19     31982  thought factory: bbc neutrality on right wing ...   \n",
       "26     31989              chick gets fucked hottest naked lady    \n",
       "33     31996  suppo the #taiji fisherman! no bullying! no ra...   \n",
       "34     31997  i say we because i'm speaking collectively. i'...   \n",
       "35     31998                               wish we could talk     \n",
       "...      ...                                                ...   \n",
       "17167  49130  people do anything for fucking attention nowad...   \n",
       "17176  49139     @user @user are the most racist pay ever!!!!!    \n",
       "17188  49151  black professor demonizes, proposes nazi style...   \n",
       "17192  49155  thought factory: left-right polarisation! #tru...   \n",
       "17194  49157  #hillary #campaigned today in #ohio((omg)) &am...   \n",
       "\n",
       "                                        processed_tweets  predict_nb  \n",
       "19     thought factory bbc neutrality on right wing f...           1  \n",
       "26                  chick gets fucked hottest naked lady           1  \n",
       "33     suppo the taiji fisherman no bullying no racis...           1  \n",
       "34     i say we because i m speaking collectively i v...           1  \n",
       "35                                    wish we could talk           1  \n",
       "...                                                  ...         ...  \n",
       "17167  people do anything for fucking attention nowadays           1  \n",
       "17176                       are the most racist pay ever           1  \n",
       "17188  black professor demonizes proposes nazi style ...           1  \n",
       "17192  thought factory left right polarisation trump ...           1  \n",
       "17194  hillary campaigned today in ohio omg amp used ...           1  \n",
       "\n",
       "[2332 rows x 4 columns]"
      ]
     },
     "execution_count": 36,
     "metadata": {},
     "output_type": "execute_result"
    }
   ],
   "source": [
    "df_test['predict_nb'] = NB.predict(x_test_tfidf)\n",
    "df_test[df_test['predict_nb']==1]"
   ]
  },
  {
   "cell_type": "code",
   "execution_count": 37,
   "id": "conditional-needle",
   "metadata": {
    "execution": {
     "iopub.execute_input": "2021-06-17T13:57:41.954423Z",
     "iopub.status.busy": "2021-06-17T13:57:41.953466Z",
     "iopub.status.idle": "2021-06-17T13:57:54.784810Z",
     "shell.execute_reply": "2021-06-17T13:57:54.784307Z",
     "shell.execute_reply.started": "2021-06-01T21:18:47.559915Z"
    },
    "id": "uanGotHQMo7X",
    "papermill": {
     "duration": 12.883213,
     "end_time": "2021-06-17T13:57:54.784950",
     "exception": false,
     "start_time": "2021-06-17T13:57:41.901737",
     "status": "completed"
    },
    "tags": []
   },
   "outputs": [
    {
     "data": {
      "text/html": [
       "<div>\n",
       "<style scoped>\n",
       "    .dataframe tbody tr th:only-of-type {\n",
       "        vertical-align: middle;\n",
       "    }\n",
       "\n",
       "    .dataframe tbody tr th {\n",
       "        vertical-align: top;\n",
       "    }\n",
       "\n",
       "    .dataframe thead th {\n",
       "        text-align: right;\n",
       "    }\n",
       "</style>\n",
       "<table border=\"1\" class=\"dataframe\">\n",
       "  <thead>\n",
       "    <tr style=\"text-align: right;\">\n",
       "      <th></th>\n",
       "      <th>id</th>\n",
       "      <th>tweet</th>\n",
       "      <th>processed_tweets</th>\n",
       "      <th>predict_nb</th>\n",
       "      <th>predict_svm</th>\n",
       "      <th>predict_rf</th>\n",
       "    </tr>\n",
       "  </thead>\n",
       "  <tbody>\n",
       "    <tr>\n",
       "      <th>0</th>\n",
       "      <td>31963</td>\n",
       "      <td>#studiolife #aislife #requires #passion #dedic...</td>\n",
       "      <td>studiolife aislife requires passion dedication...</td>\n",
       "      <td>0</td>\n",
       "      <td>0</td>\n",
       "      <td>1</td>\n",
       "    </tr>\n",
       "    <tr>\n",
       "      <th>1</th>\n",
       "      <td>31964</td>\n",
       "      <td>@user #white #supremacists want everyone to s...</td>\n",
       "      <td>white supremacists want everyone to see the ne...</td>\n",
       "      <td>0</td>\n",
       "      <td>0</td>\n",
       "      <td>1</td>\n",
       "    </tr>\n",
       "    <tr>\n",
       "      <th>2</th>\n",
       "      <td>31965</td>\n",
       "      <td>safe ways to heal your #acne!!    #altwaystohe...</td>\n",
       "      <td>safe ways to heal your acne altwaystoheal heal...</td>\n",
       "      <td>0</td>\n",
       "      <td>0</td>\n",
       "      <td>0</td>\n",
       "    </tr>\n",
       "    <tr>\n",
       "      <th>3</th>\n",
       "      <td>31966</td>\n",
       "      <td>is the hp and the cursed child book up for res...</td>\n",
       "      <td>is the hp and the cursed child book up for res...</td>\n",
       "      <td>0</td>\n",
       "      <td>0</td>\n",
       "      <td>0</td>\n",
       "    </tr>\n",
       "    <tr>\n",
       "      <th>4</th>\n",
       "      <td>31967</td>\n",
       "      <td>3rd #bihday to my amazing, hilarious #nephew...</td>\n",
       "      <td>3rd bihday to my amazing hilarious nephew eli ...</td>\n",
       "      <td>0</td>\n",
       "      <td>0</td>\n",
       "      <td>0</td>\n",
       "    </tr>\n",
       "  </tbody>\n",
       "</table>\n",
       "</div>"
      ],
      "text/plain": [
       "      id                                              tweet  \\\n",
       "0  31963  #studiolife #aislife #requires #passion #dedic...   \n",
       "1  31964   @user #white #supremacists want everyone to s...   \n",
       "2  31965  safe ways to heal your #acne!!    #altwaystohe...   \n",
       "3  31966  is the hp and the cursed child book up for res...   \n",
       "4  31967    3rd #bihday to my amazing, hilarious #nephew...   \n",
       "\n",
       "                                    processed_tweets  predict_nb  predict_svm  \\\n",
       "0  studiolife aislife requires passion dedication...           0            0   \n",
       "1  white supremacists want everyone to see the ne...           0            0   \n",
       "2  safe ways to heal your acne altwaystoheal heal...           0            0   \n",
       "3  is the hp and the cursed child book up for res...           0            0   \n",
       "4  3rd bihday to my amazing hilarious nephew eli ...           0            0   \n",
       "\n",
       "   predict_rf  \n",
       "0           1  \n",
       "1           1  \n",
       "2           0  \n",
       "3           0  \n",
       "4           0  "
      ]
     },
     "execution_count": 37,
     "metadata": {},
     "output_type": "execute_result"
    }
   ],
   "source": [
    "\n",
    "df_test['predict_svm'] = NB.predict(x_test_tfidf)\n",
    "df_test['predict_rf'] = model.predict(x_test_tfidf)\n",
    "df_test.head()"
   ]
  },
  {
   "cell_type": "code",
   "execution_count": 38,
   "id": "alive-essay",
   "metadata": {
    "execution": {
     "iopub.execute_input": "2021-06-17T13:57:54.885335Z",
     "iopub.status.busy": "2021-06-17T13:57:54.884648Z",
     "iopub.status.idle": "2021-06-17T13:57:55.031962Z",
     "shell.execute_reply": "2021-06-17T13:57:55.031344Z",
     "shell.execute_reply.started": "2021-06-01T21:18:38.842436Z"
    },
    "id": "130Ys0WCNeEG",
    "outputId": "f5165d40-151e-4064-8598-b3bbd9f1826c",
    "papermill": {
     "duration": 0.199717,
     "end_time": "2021-06-17T13:57:55.032101",
     "exception": false,
     "start_time": "2021-06-17T13:57:54.832384",
     "status": "completed"
    },
    "tags": []
   },
   "outputs": [],
   "source": [
    "\n",
    "file_name = 'test_predictions_Twitter Hate Analysis.csv'\n",
    "df_test.to_csv(file_name,index=False)\n"
   ]
  },
  {
   "cell_type": "code",
   "execution_count": 39,
   "id": "annual-prince",
   "metadata": {
    "execution": {
     "iopub.execute_input": "2021-06-17T13:57:55.132088Z",
     "iopub.status.busy": "2021-06-17T13:57:55.131464Z",
     "iopub.status.idle": "2021-06-17T13:57:55.134602Z",
     "shell.execute_reply": "2021-06-17T13:57:55.134075Z"
    },
    "id": "V-q_5gaMX1X2",
    "papermill": {
     "duration": 0.055086,
     "end_time": "2021-06-17T13:57:55.134741",
     "exception": false,
     "start_time": "2021-06-17T13:57:55.079655",
     "status": "completed"
    },
    "tags": []
   },
   "outputs": [],
   "source": [
    "# **Results**\n",
    "\n",
    "#Algorithms                                  F1-Score\n",
    "\n",
    "#SVM                                            99%\n",
    "\n",
    "#Random Forest                                  98%\n",
    "\n",
    "#XG Boost                                       91%\n",
    "\n",
    "#Navie Bayes                                    95%\n",
    "\n",
    "#Logistic Regression                            98%\n",
    " \n"
   ]
  },
  {
   "cell_type": "code",
   "execution_count": null,
   "id": "large-accused",
   "metadata": {
    "id": "WBY4ilCPYT6u",
    "papermill": {
     "duration": 0.046796,
     "end_time": "2021-06-17T13:57:55.228798",
     "exception": false,
     "start_time": "2021-06-17T13:57:55.182002",
     "status": "completed"
    },
    "tags": []
   },
   "outputs": [],
   "source": []
  }
 ],
 "metadata": {
  "kernelspec": {
   "display_name": "Python 3",
   "language": "python",
   "name": "python3"
  },
  "language_info": {
   "codemirror_mode": {
    "name": "ipython",
    "version": 3
   },
   "file_extension": ".py",
   "mimetype": "text/x-python",
   "name": "python",
   "nbconvert_exporter": "python",
   "pygments_lexer": "ipython3",
   "version": "3.7.10"
  },
  "papermill": {
   "default_parameters": {},
   "duration": 240.946529,
   "end_time": "2021-06-17T13:57:56.086584",
   "environment_variables": {},
   "exception": null,
   "input_path": "__notebook__.ipynb",
   "output_path": "__notebook__.ipynb",
   "parameters": {},
   "start_time": "2021-06-17T13:53:55.140055",
   "version": "2.3.3"
  }
 },
 "nbformat": 4,
 "nbformat_minor": 5
}
